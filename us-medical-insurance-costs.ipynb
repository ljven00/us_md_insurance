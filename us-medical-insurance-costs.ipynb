{
 "cells": [
  {
   "cell_type": "markdown",
   "metadata": {},
   "source": [
    "# U.S. Medical Insurance Costs"
   ]
  },
  {
   "cell_type": "markdown",
   "metadata": {},
   "source": [
    "The dataset I am using contains information about US Medical Insurance Costs in a CSV file such as patient's age, sex, if he is a smoker or not, and some other caracteristics.\n",
    "\n",
    "We are interesed about the following:\n",
    "\n",
    "- The average age of the patients.\n",
    "- Where a majority of the individuals are from.\n",
    "- Costs between smokers vs. non-smokers.\n",
    "- Average age for someone who has at least one child.\n",
    "\n",
    "For the project, I will be using vanilla python, i;e I won't be importing pandas or numpy package."
   ]
  },
  {
   "cell_type": "code",
   "execution_count": 4,
   "metadata": {},
   "outputs": [],
   "source": [
    "import csv\n",
    "from statistics import mean as smean"
   ]
  },
  {
   "cell_type": "markdown",
   "metadata": {},
   "source": [
    "To parse the data from the csv file, I am creating a Patient class that represents any single patient, i;e any singe row from the file. Each column name becomes an object attribute (age, sex, bmi, children, smoker, region, charges)."
   ]
  },
  {
   "cell_type": "code",
   "execution_count": 3,
   "metadata": {},
   "outputs": [],
   "source": [
    "# Class to represent a single patient regarding insurance\n",
    "class Patient:\n",
    "\n",
    "    def __init__(self, age: int, sex: str, bmi: float, children: int,\n",
    "                 smoker: str, region: str, charges: float):\n",
    "        self.age = age\n",
    "        self.sex = sex\n",
    "        self.bmi = bmi\n",
    "        self.children = children\n",
    "        self.smoker = smoker\n",
    "        self.region = region\n",
    "        self.charges = charges\n",
    "        "
   ]
  },
  {
   "cell_type": "markdown",
   "metadata": {},
   "source": [
    "I am creating an InsuranceData class, that will load and store the data. There will be some helper functions that will help us calculate some basics statistics. The class contains the columns names, and their respective data as list. It is important to mention that the class functionality would be limited as I would only be using it for the purpose of analyzing specific traits of this particular data sets. It is not an alternative to pandas, and I haven't use pandas for me to be able to practice using plain python syntax and built-ins."
   ]
  },
  {
   "cell_type": "code",
   "execution_count": 26,
   "metadata": {},
   "outputs": [],
   "source": [
    "# Class to represent insurance's data of different patient\n",
    "class InsuranceData:\n",
    "\n",
    "    def __init__(self, file_path: str):\n",
    "        # All the attributes are private and Read-Only\n",
    "        # setters, getters, and deleters are implemented to interact with them\n",
    "        self.__ages = []\n",
    "        self.__sexes = []\n",
    "        self.__bmis = []\n",
    "        self.__children = []\n",
    "        self.__smokers = []\n",
    "        self.__regions = []\n",
    "        self.__charges = []\n",
    "        \n",
    "        with open(file_path, \"r\", newline=\"\") as file:\n",
    "            reader = csv.reader(file)\n",
    "            self.__colnames = next(reader)\n",
    "            # For every row in the file, a Patient object captures the values\n",
    "            # Each column data is appended to the respective column\n",
    "            for row in reader:\n",
    "                p = Patient(*row)\n",
    "                self.__ages.append(int(p.age))\n",
    "                self.__sexes.append(p.sex)\n",
    "                self.__bmis.append(float(p.bmi))\n",
    "                self.__children.append(int(p.children))\n",
    "                self.__smokers.append(p.smoker)\n",
    "                self.__regions.append(p.region)\n",
    "                self.__charges.append(float(p.charges))\n",
    "\n",
    "        self.__ncols = len(self.__colnames)  # Number of columns\n",
    "        self.__nrows = len(self.__ages)  # Number of rows\n",
    "        self.__categorical_col = [\"sexes\", \"smokers\", \"regions\", \"children\"]\n",
    "        self.__numerical_col = [\"ages\", \"bmis\", \"children\", \"charges\"]\n",
    "        # Panda's DataFrame like presentation\n",
    "        self.__table = list(zip(range(self.__nrows), self.__ages, self.__sexes, self.__bmis, self.__children,\n",
    "                          self.__smokers, self.__regions, self.__charges))\n",
    "\n",
    "    @property\n",
    "    def table(self):\n",
    "        return self.__table\n",
    "\n",
    "    @table.setter\n",
    "    def table(self, table):\n",
    "        raise Exception(\"Read-Only Attribute\")\n",
    "\n",
    "    @table.deleter\n",
    "    def table(self):\n",
    "        raise Exception(\"Read-Only Attribute\")\n",
    "\n",
    "    @property\n",
    "    def colnames(self):\n",
    "        return self.__colnames[:]\n",
    "\n",
    "    @colnames.setter\n",
    "    def colnames(self, colnames):\n",
    "        raise Exception(\"Read-Only Attribute\")\n",
    "\n",
    "    @colnames.deleter\n",
    "    def colnames(self):\n",
    "        raise Exception(\"Read-Only Attribute\")\n",
    "\n",
    "    @property\n",
    "    def ncols(self):\n",
    "        return self.__ncols\n",
    "\n",
    "    @ncols.setter\n",
    "    def ncols(self, ncols):\n",
    "        raise Exception(\"Read-Only Attribute\")\n",
    "\n",
    "    @ncols.deleter\n",
    "    def ncols(self):\n",
    "        raise Exception(\"Read-Only Attribute\")\n",
    "\n",
    "    @property\n",
    "    def nrows(self):\n",
    "        return self.__nrows\n",
    "\n",
    "    @nrows.setter\n",
    "    def nrows(self, nrows):\n",
    "        raise Exception(\"Read-Only Attribute\")\n",
    "\n",
    "    @nrows.deleter\n",
    "    def nrows(self):\n",
    "        raise Exception(\"Read-Only Attribute\")\n",
    "            \n",
    "    @property\n",
    "    def ages(self):\n",
    "        return self.__ages[:]\n",
    "\n",
    "    @ages.setter\n",
    "    def ages(self, ages):\n",
    "        raise Exception(\"Read-Only Attribute\")\n",
    "\n",
    "    @ages.deleter\n",
    "    def ages(self):\n",
    "        raise Exception(\"Read-Only Attribute\")\n",
    "\n",
    "    @property\n",
    "    def sexes(self):\n",
    "        return self.__sexes[:]\n",
    "\n",
    "    @sexes.setter\n",
    "    def sexes(self, sexes):\n",
    "        raise Exception(\"Read-Only Attribute\")\n",
    "\n",
    "    @sexes.deleter\n",
    "    def sexes(self):\n",
    "        raise Exception(\"Read-Only Attribute\")\n",
    "\n",
    "    @property\n",
    "    def bmis(self):\n",
    "        return self.__bmis[:]\n",
    "\n",
    "    @bmis.setter\n",
    "    def bmis(self, sexes):\n",
    "        raise Exception(\"Read-Only Attribute\")\n",
    "\n",
    "    @bmis.deleter\n",
    "    def bmis(self):\n",
    "        raise Exception(\"Read-Only Attribute\")\n",
    "\n",
    "    @property\n",
    "    def children(self):\n",
    "        return self.__children[:]\n",
    "\n",
    "    @children.setter\n",
    "    def children(self, sexes):\n",
    "        raise Exception(\"Read-Only Attribute\")\n",
    "\n",
    "    @children.deleter\n",
    "    def children(self, sexes):\n",
    "        raise Exception(\"Read-Only Attribute\")\n",
    "\n",
    "    @property\n",
    "    def smokers(self):\n",
    "        return self.__smokers[:]\n",
    "\n",
    "    @smokers.setter\n",
    "    def smokers(self, sexes):\n",
    "        raise Exception(\"Read-Only Attribute\")\n",
    "\n",
    "    @smokers.deleter\n",
    "    def smokers(self):\n",
    "        raise Exception(\"Read-Only Attribute\")\n",
    "\n",
    "    @property\n",
    "    def regions(self):\n",
    "        return self.__regions[:]\n",
    "\n",
    "    @regions.setter\n",
    "    def regions(self, regions):\n",
    "        raise Exception(\"Read-Only Attribute\")\n",
    "\n",
    "    @regions.deleter\n",
    "    def regions(self):\n",
    "        raise Exception(\"Read-Only Attribute\")\n",
    "\n",
    "    @property\n",
    "    def charges(self):\n",
    "        return self.__charges[:]\n",
    "\n",
    "    @charges.setter\n",
    "    def charges(self, charges):\n",
    "        raise Exception(\"Read-Only Attribute\")\n",
    "\n",
    "    @charges.deleter\n",
    "    def charges(self):\n",
    "        raise Exception(\"Read-Only Attribute\")\n",
    "\n",
    "    # Statistic Methods\n",
    "    # calculate the mean of numeric columns by passing the column name\n",
    "    def mean(self, col=\"charges\"):\n",
    "        if col in self.__numerical_col:\n",
    "            # get the entire column as list\n",
    "            data = getattr(self, col)\n",
    "            if isinstance(data[0], int):\n",
    "                # for int, an int mean is returned, especially that age should be whole\n",
    "                return int(smean(data))\n",
    "            return smean(data)\n",
    "        else:\n",
    "            raise Exception(f\"Column should be in {self.__numerical_col}\")\n",
    "\n",
    "    # calculate the frequency for categorical column\n",
    "    def values_count(self, col):\n",
    "        if col in self.__categorical_col:\n",
    "            col_data = getattr(self, col)\n",
    "            val_count = dict.fromkeys(col_data, 0)\n",
    "            for key in val_count:\n",
    "                val_count[key] = col_data.count(key)\n",
    "            return val_count\n",
    "        else:\n",
    "            raise Exception(f\"Column should be in {self.__categorical_col}\")\n",
    "\n",
    "    # group by operation \n",
    "    # by: categorical column name\n",
    "    # op: the aggregate to be performed\n",
    "    # on: column to use for the aggregate\n",
    "    def group(self, by, op, on):\n",
    "        agg = [\"sum\", \"mean\"]\n",
    "        if by in self.__categorical_col and op in agg and on in self.__numerical_col:\n",
    "            by_col = getattr(self, by)  # column data \n",
    "            on_col = getattr(self, on)  # column data\n",
    "            uniq = {key: [] for key in self.values_count(by)} # extracting unique values\n",
    "            for key, value in zip(by_col, on_col):\n",
    "                uniq[key].append(value)\n",
    "            match op:\n",
    "                case \"sum\":\n",
    "                    result = {k : sum(v) for k, v in uniq.items()}\n",
    "                case \"mean\":\n",
    "                    result = {k : smean(v) for k, v in uniq.items()}\n",
    "            return result\n",
    "        else:\n",
    "            raise Exception(f\"By column should be in {self.__categorical_col}\\nAggregate operation in {agg}\\nOn column in {self.__numerical_col}\")\n",
    "\n",
    "    def __str__(self):\n",
    "        pass\n",
    "        "
   ]
  },
  {
   "cell_type": "markdown",
   "metadata": {},
   "source": [
    "Now we will begin to answer the questions we are interested about:\n",
    "1. What is the average age of the patients?\n",
    "2. Where a majority of the individuals are from?\n",
    "3. What is the Costs between smokers vs. non-smokers?\n",
    "4. What is the average age for someone who has at least one child?"
   ]
  },
  {
   "cell_type": "code",
   "execution_count": 27,
   "metadata": {},
   "outputs": [],
   "source": [
    "# Loading the insurance data through the InsuranceData Class\n",
    "df = InsuranceData(\"insurance.csv\")\n"
   ]
  },
  {
   "cell_type": "code",
   "execution_count": 9,
   "metadata": {},
   "outputs": [
    {
     "name": "stdout",
     "output_type": "stream",
     "text": [
      "The average age of the patients is: 39\n"
     ]
    }
   ],
   "source": [
    "# Average age of the patients\n",
    "avg_patients_age = df.mean(\"ages\")\n",
    "print(f\"The average age of the patients is: {avg_patients_age}\")"
   ]
  },
  {
   "cell_type": "code",
   "execution_count": 20,
   "metadata": {},
   "outputs": [
    {
     "name": "stdout",
     "output_type": "stream",
     "text": [
      "Most patients are from southeast.\n",
      "364 out of 1338 patients.\n"
     ]
    }
   ],
   "source": [
    "# Origin of most of the patient\n",
    "origin_val_count = df.values_count(\"regions\")\n",
    "max_origin = max(origin_val_count, key=origin_val_count.get)\n",
    "print(f\"Most patients are from {max_origin}.\")\n",
    "print(f\"{origin_val_count.get(max_origin)} out of {df.nrows} patients.\")"
   ]
  },
  {
   "cell_type": "code",
   "execution_count": 18,
   "metadata": {},
   "outputs": [
    {
     "name": "stdout",
     "output_type": "stream",
     "text": [
      "The average costs for smokers is $32050.23\n",
      "The average costs for non-smokers is $8434.27\n"
     ]
    }
   ],
   "source": [
    "# Costs between smokers and non-smokers\n",
    "smokers_avg_charges = df.group(\"smokers\", \"mean\", \"charges\")\n",
    "smokers_yes = smokers_avg_charges.get(\"yes\")\n",
    "smokers_no = smokers_avg_charges.get(\"no\")\n",
    "print(f\"The average costs for smokers is ${smokers_yes:.2f}\")\n",
    "print(f\"The average costs for non-smokers is ${smokers_no:.2f}\")"
   ]
  },
  {
   "cell_type": "code",
   "execution_count": 33,
   "metadata": {},
   "outputs": [
    {
     "name": "stdout",
     "output_type": "stream",
     "text": [
      "The average cost for people with one child is $12731.17\n"
     ]
    }
   ],
   "source": [
    "# Average cost for people with one child\n",
    "children_avg_cost = df.group(\"children\", \"mean\", \"charges\")\n",
    "print(f\"The average cost for people with one child is ${children_avg_cost.get(1):.2f}\")"
   ]
  }
 ],
 "metadata": {
  "kernelspec": {
   "display_name": "Python 3 (ipykernel)",
   "language": "python",
   "name": "python3"
  },
  "language_info": {
   "codemirror_mode": {
    "name": "ipython",
    "version": 3
   },
   "file_extension": ".py",
   "mimetype": "text/x-python",
   "name": "python",
   "nbconvert_exporter": "python",
   "pygments_lexer": "ipython3",
   "version": "3.12.7"
  }
 },
 "nbformat": 4,
 "nbformat_minor": 4
}
